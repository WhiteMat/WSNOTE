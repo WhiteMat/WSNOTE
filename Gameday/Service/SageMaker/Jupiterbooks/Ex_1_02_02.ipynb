{
 "cells": [
  {
   "cell_type": "code",
   "execution_count": null,
   "id": "53b636b4",
   "metadata": {},
   "outputs": [],
   "source": [
    "import numpy as np\n",
    "np.set_printoptions(2)\n",
    "np.random.seed(1)\n",
    "weights = np.random.randn(1,5)*0.01\n",
    "biais = np.zeros(shape=(1,1))\n",
    "print(\"Dimension des poids: \", weights.shape)\n",
    "print(\"Poids: \",weights)\n",
    "print(\"Dimension des biais: \", biais.shape)\n",
    "print(\"Biais: \", biais)\n",
    "\n",
    "input_values = np.array([7,1,3,2,9]).reshape(-1, 1)\n",
    "\n",
    "print(\"Dimension des entrées: \", input_values.shape)\n",
    "\n",
    "f11 = np.dot(weights, input_values) + biais\n",
    "print(\"Somme pondérée: \", f11)\n",
    "\n",
    "def sigmoid(x):\n",
    "    return 1/(1+np.exp(-x))\n",
    "\n",
    "y_calcul = sigmoid(f11)\n",
    "print(\"Output: \", y_calcul)"
   ]
  }
 ],
 "metadata": {
  "kernelspec": {
   "display_name": "Python 3",
   "language": "python",
   "name": "python3"
  },
  "language_info": {
   "codemirror_mode": {
    "name": "ipython",
    "version": 3
   },
   "file_extension": ".py",
   "mimetype": "text/x-python",
   "name": "python",
   "nbconvert_exporter": "python",
   "pygments_lexer": "ipython3",
   "version": "3.8.8"
  }
 },
 "nbformat": 4,
 "nbformat_minor": 5
}
