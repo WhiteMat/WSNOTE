{
 "cells": [
  {
   "cell_type": "markdown",
   "id": "cad79bfa",
   "metadata": {},
   "source": [
    "# Image Embedding POC"
   ]
  },
  {
   "cell_type": "markdown",
   "id": "43a535ba",
   "metadata": {},
   "source": [
    "### 1. Set Up"
   ]
  },
  {
   "cell_type": "markdown",
   "id": "14bff8ef",
   "metadata": {},
   "source": [
    "#### Permissions and environment variables\n",
    "\n",
    "---\n",
    "To host on Amazon SageMaker, we need to set up and authenticate the use of AWS services. Here, we use the execution role associated with the current notebook as the AWS account role with SageMaker access. \n",
    "\n",
    "---"
   ]
  },
  {
   "cell_type": "code",
   "execution_count": null,
   "id": "bac7fed7",
   "metadata": {},
   "outputs": [],
   "source": [
    "import sagemaker, boto3, json\n",
    "from sagemaker.session import Session\n",
    "\n",
    "sagemaker_session = Session()\n",
    "aws_role = sagemaker_session.get_caller_identity_arn()\n",
    "aws_region = boto3.Session().region_name\n",
    "sess = sagemaker.Session()\n",
    "print('Step completed.')"
   ]
  },
  {
   "cell_type": "markdown",
   "id": "7802fc14",
   "metadata": {},
   "source": [
    "### 2. Select a model\n",
    "\n"
   ]
  },
  {
   "cell_type": "markdown",
   "id": "0bda136d",
   "metadata": {},
   "source": [
    "#### Chose a model for Inference"
   ]
  },
  {
   "cell_type": "code",
   "execution_count": null,
   "id": "fc30112c",
   "metadata": {},
   "outputs": [],
   "source": [
    "# model_version=\"*\" fetches the latest version of the model\n",
    "model_id, model_version = \"tensorflow-icembedding-bit-m-r101x1-ilsvrc2012-featurevector-1\", \"*\"\n",
    "print('Step completed.')"
   ]
  },
  {
   "cell_type": "markdown",
   "id": "bab706dd",
   "metadata": {},
   "source": [
    "### 3. Retrieve JumpStart Artifacts & Deploy an Endpoint\n"
   ]
  },
  {
   "cell_type": "code",
   "execution_count": null,
   "id": "341421cf",
   "metadata": {},
   "outputs": [],
   "source": [
    "from sagemaker.jumpstart.model import JumpStartModel\n",
    "\n",
    "my_model = JumpStartModel(model_id=model_id)\n",
    "model_predictor = my_model.deploy()\n",
    "\n",
    "print(model_predictor.endpoint_name)\n",
    "print('step completed.')"
   ]
  },
  {
   "cell_type": "markdown",
   "id": "264717bf",
   "metadata": {},
   "source": [
    "### 4. Download example images for inference\n",
    "---\n",
    "We download example images from the JumpStart assets S3 bucket.\n",
    "\n",
    "---"
   ]
  },
  {
   "cell_type": "code",
   "execution_count": null,
   "id": "9245da40",
   "metadata": {},
   "outputs": [],
   "source": [
    "region = boto3.Session().region_name\n",
    "s3_bucket = f\"jumpstart-cache-prod-{region}\"\n",
    "key_prefix = \"inference-notebook-assets\"\n",
    "s3 = boto3.client(\"s3\")\n",
    "\n",
    "\n",
    "def download_from_s3(key_filenames):\n",
    "    for key_filename in key_filenames:\n",
    "        s3.download_file(s3_bucket, f\"{key_prefix}/{key_filename}\", key_filename)\n",
    "\n",
    "\n",
    "cat_jpg, dog_jpg = \"cat.jpg\", \"dog.jpg\"\n",
    "download_from_s3(key_filenames=[cat_jpg, dog_jpg])\n",
    "\n",
    "print('step completed.')"
   ]
  },
  {
   "cell_type": "markdown",
   "id": "82a6c3d6",
   "metadata": {},
   "source": [
    "### 5. Query endpoint and parse response\n",
    "\n",
    "---\n",
    "Input to the endpoint is a single image in binary format. Output of the endpoint is a `json` with the image embedding.\n",
    "\n",
    "---"
   ]
  },
  {
   "cell_type": "code",
   "execution_count": null,
   "id": "c421e7a1",
   "metadata": {},
   "outputs": [],
   "source": [
    "def query(model_predictor, image_file_name):\n",
    "    \"\"\"Query the model predictor.\"\"\"\n",
    "\n",
    "    with open(image_file_name, \"rb\") as file:\n",
    "        input_img_rb = file.read()\n",
    "\n",
    "    query_response = model_predictor.predict(\n",
    "        input_img_rb,\n",
    "        {\n",
    "            \"ContentType\": \"application/x-image\",\n",
    "            \"Accept\": \"application/json\",\n",
    "        },\n",
    "    )\n",
    "    return query_response\n",
    "\n",
    "print('step completed.')"
   ]
  },
  {
   "cell_type": "code",
   "execution_count": null,
   "id": "c53bd295",
   "metadata": {},
   "outputs": [],
   "source": [
    "# Your Code for to generate the first 5 elements of the embedding for both images \n"
   ]
  },
  {
   "cell_type": "markdown",
   "id": "7494deef",
   "metadata": {},
   "source": [
    "## 6. Clean up the endpoint"
   ]
  },
  {
   "cell_type": "code",
   "execution_count": null,
   "id": "fdb0068b",
   "metadata": {},
   "outputs": [],
   "source": [
    "# Delete the SageMaker endpoint\n",
    "model_predictor.delete_model()\n",
    "model_predictor.delete_endpoint()"
   ]
  }
 ],
 "metadata": {
  "instance_type": "ml.t3.medium",
  "kernelspec": {
   "display_name": "Python 3 (Data Science 3.0)",
   "language": "python",
   "name": "python3__SAGEMAKER_INTERNAL__arn:aws:sagemaker:us-east-1:081325390199:image/sagemaker-data-science-310-v1"
  },
  "language_info": {
   "codemirror_mode": {
    "name": "ipython",
    "version": 3
   },
   "file_extension": ".py",
   "mimetype": "text/x-python",
   "name": "python",
   "nbconvert_exporter": "python",
   "pygments_lexer": "ipython3",
   "version": "3.10.6"
  },
  "pycharm": {
   "stem_cell": {
    "cell_type": "raw",
    "metadata": {
     "collapsed": false
    },
    "source": []
   }
  }
 },
 "nbformat": 4,
 "nbformat_minor": 5
}
