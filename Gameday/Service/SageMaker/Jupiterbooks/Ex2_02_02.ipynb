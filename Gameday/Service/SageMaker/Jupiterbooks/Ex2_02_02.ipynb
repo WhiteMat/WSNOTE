{
 "cells": [
  {
   "cell_type": "code",
   "execution_count": 20,
   "id": "e8fa97ab",
   "metadata": {},
   "outputs": [],
   "source": [
    "import numpy as np                        \n",
    "np.random.seed(1)\n",
    "input_nodes = 5                             # nombre de neurones dans chaque couche\n",
    "hidden_1_nodes =3\n",
    "hidden_2_nodes = 5\n",
    "output_nodes = 4"
   ]
  },
  {
   "cell_type": "code",
   "execution_count": 21,
   "id": "18089437",
   "metadata": {},
   "outputs": [
    {
     "name": "stdout",
     "output_type": "stream",
     "text": [
      "x\n",
      "[[0.38]\n",
      " [0.13]\n",
      " [0.73]] (3, 1)\n",
      "y\n",
      "[[0.1 ]\n",
      " [0.76]] (2, 1)\n"
     ]
    }
   ],
   "source": [
    "x = np.random.randint(1, 100, size = (input_nodes, 1)) / 100\n",
    "print('x')                                  # Entrées\n",
    "print(x, x.shape)\n",
    "y = np.random.randint(1, 100, size = (output_nodes, 1)) / 100\n",
    "print('y')                                  # Cibles\n",
    "print(y, y.shape)"
   ]
  },
  {
   "cell_type": "code",
   "execution_count": 22,
   "id": "a705e30b",
   "metadata": {},
   "outputs": [],
   "source": [
    "def relu(x, leak = 0):                      # ReLU\n",
    "    return np.where(x <= 0, leak * x, x)\n",
    "def sig(x):                                 # Sigmoide\n",
    "    return 1/(1 + np.exp(-x))\n",
    "def mse(y_true, y_pred):                    # MSE\n",
    "    return np.mean((y_true - y_pred)**2)"
   ]
  },
  {
   "cell_type": "code",
   "execution_count": 23,
   "id": "11bc4ff4",
   "metadata": {},
   "outputs": [
    {
     "name": "stdout",
     "output_type": "stream",
     "text": [
      "[[1.   0.24 0.4 ]\n",
      " [0.39 0.67 0.94]] (2, 3)\n",
      "w1\n",
      "[[1.   0.24 0.4 ]\n",
      " [0.39 0.67 0.94]] (2, 3)\n",
      "\n",
      "\n",
      "b1\n",
      "[[0.]\n",
      " [0.]] (2, 1)\n",
      "w2\n",
      "[[0.85 0.31]\n",
      " [0.52 0.44]] (2, 2)\n",
      "\n",
      "\n",
      "b2\n",
      "[[0.]\n",
      " [0.]] (2, 1)\n",
      "w3\n",
      "[[0.23 0.53]\n",
      " [0.91 0.46]] (2, 2)\n",
      "\n",
      "\n",
      "b3\n",
      "[[0.]\n",
      " [0.]] (2, 1)\n"
     ]
    }
   ],
   "source": [
    "w1 = np.random.random(size = (hidden_1_nodes, input_nodes))\n",
    "b1 = np.zeros(shape = (hidden_1_nodes, 1))\n",
    "np.set_printoptions(2)\n",
    "print(w1, w1.shape)\n",
    "print('w1')                               \n",
    "print(w1, w1.shape)\n",
    "print('\\n')\n",
    "print('b1')                               \n",
    "print(b1, b1.shape)\n",
    "w2 = np.random.random(size = (hidden_2_nodes, hidden_1_nodes))\n",
    "b2 = np.zeros(shape = (hidden_2_nodes, 1))\n",
    "print('w2')                                \n",
    "print(w2, w2.shape)\n",
    "print('\\n')\n",
    "print('b2')                               \n",
    "print(b2, b2.shape)\n",
    "w3 = np.random.random(size = (output_nodes, hidden_2_nodes))\n",
    "b3 = np.zeros(shape = (output_nodes, 1))\n",
    "print('w3')                                 \n",
    "print(w3, w3.shape)\n",
    "print('\\n')\n",
    "print('b3')                                \n",
    "print(b3, b3.shape)\n"
   ]
  },
  {
   "cell_type": "code",
   "execution_count": 24,
   "id": "a6c96a30",
   "metadata": {},
   "outputs": [
    {
     "name": "stdout",
     "output_type": "stream",
     "text": [
      "in_hidden_1\n",
      "[[0.7 ]\n",
      " [0.92]] (2, 1)\n"
     ]
    }
   ],
   "source": [
    "in_hidden_1 = w1.dot(x) + b1\n",
    "print('in_hidden_1')\n",
    "print(in_hidden_1, in_hidden_1.shape)"
   ]
  },
  {
   "cell_type": "code",
   "execution_count": 25,
   "id": "deab4c4d",
   "metadata": {},
   "outputs": [
    {
     "name": "stdout",
     "output_type": "stream",
     "text": [
      "out_hidden_1\n",
      "[[0.7 ]\n",
      " [0.92]] (2, 1)\n"
     ]
    }
   ],
   "source": [
    "out_hidden_1 = relu(in_hidden_1, leak = 0.1)\n",
    "print('out_hidden_1')\n",
    "print(out_hidden_1, out_hidden_1.shape)"
   ]
  },
  {
   "cell_type": "code",
   "execution_count": 26,
   "id": "62868fe8",
   "metadata": {},
   "outputs": [
    {
     "name": "stdout",
     "output_type": "stream",
     "text": [
      "in_hidden_2\n",
      "[[0.88]\n",
      " [0.77]] (2, 1)\n"
     ]
    }
   ],
   "source": [
    "in_hidden_2 = w2.dot(out_hidden_1) + b2\n",
    "print('in_hidden_2')\n",
    "print(in_hidden_2, in_hidden_2.shape)"
   ]
  },
  {
   "cell_type": "code",
   "execution_count": 27,
   "id": "0db0406b",
   "metadata": {},
   "outputs": [
    {
     "name": "stdout",
     "output_type": "stream",
     "text": [
      "out_hidden_2\n",
      "[[0.88]\n",
      " [0.77]] (2, 1)\n"
     ]
    }
   ],
   "source": [
    "out_hidden_2 = relu(in_hidden_2, leak = 0.1)\n",
    "print('out_hidden_2')\n",
    "print(out_hidden_2, out_hidden_2.shape)"
   ]
  },
  {
   "cell_type": "code",
   "execution_count": 28,
   "id": "0a13382c",
   "metadata": {},
   "outputs": [
    {
     "name": "stdout",
     "output_type": "stream",
     "text": [
      "in_output_layer\n",
      "[[0.62]\n",
      " [1.16]] (2, 1)\n"
     ]
    }
   ],
   "source": [
    "in_output_layer = w3.dot(out_hidden_2) + b3\n",
    "print('in_output_layer')\n",
    "print(in_output_layer, in_output_layer.shape)"
   ]
  },
  {
   "cell_type": "code",
   "execution_count": 29,
   "id": "4974cda6",
   "metadata": {},
   "outputs": [
    {
     "name": "stdout",
     "output_type": "stream",
     "text": [
      "out_hidden_2\n",
      "[[0.71]\n",
      " [0.68]] (2, 1)\n"
     ]
    }
   ],
   "source": [
    "out_hidden_2 = sig(in_hidden_2)\n",
    "print('out_hidden_2')\n",
    "print(out_hidden_2, out_hidden_2.shape)"
   ]
  },
  {
   "cell_type": "code",
   "execution_count": 30,
   "id": "ca1e3567",
   "metadata": {},
   "outputs": [
    {
     "name": "stdout",
     "output_type": "stream",
     "text": [
      "in_output_layer\n",
      "[[0.53]\n",
      " [0.96]] (2, 1)\n"
     ]
    }
   ],
   "source": [
    "in_output_layer = w3.dot(out_hidden_2) + b3\n",
    "print('in_output_layer')\n",
    "print(in_output_layer, in_output_layer.shape)"
   ]
  },
  {
   "cell_type": "code",
   "execution_count": 31,
   "id": "89f2e54a",
   "metadata": {},
   "outputs": [
    {
     "name": "stdout",
     "output_type": "stream",
     "text": [
      "y_hat\n",
      "[[0.63]\n",
      " [0.72]] (2, 1)\n"
     ]
    }
   ],
   "source": [
    "y_hat = sig(in_output_layer)\n",
    "print('y_hat')\n",
    "print(y_hat, y_hat.shape)"
   ]
  },
  {
   "cell_type": "code",
   "execution_count": 32,
   "id": "a262512c",
   "metadata": {},
   "outputs": [
    {
     "name": "stdout",
     "output_type": "stream",
     "text": [
      "y\n",
      "[[0.1 ]\n",
      " [0.76]] (2, 1)\n"
     ]
    }
   ],
   "source": [
    "print('y')\n",
    "print(y, y.shape)"
   ]
  },
  {
   "cell_type": "code",
   "execution_count": 33,
   "id": "5a83685d",
   "metadata": {},
   "outputs": [
    {
     "data": {
      "text/plain": [
       "0.14061675468127363"
      ]
     },
     "execution_count": 33,
     "metadata": {},
     "output_type": "execute_result"
    }
   ],
   "source": [
    "mse(y, y_hat)"
   ]
  },
  {
   "cell_type": "code",
   "execution_count": null,
   "id": "4aaaf6b6",
   "metadata": {},
   "outputs": [],
   "source": []
  },
  {
   "cell_type": "code",
   "execution_count": null,
   "id": "4edcedf8",
   "metadata": {},
   "outputs": [],
   "source": []
  }
 ],
 "metadata": {
  "kernelspec": {
   "display_name": "Python 3",
   "language": "python",
   "name": "python3"
  },
  "language_info": {
   "codemirror_mode": {
    "name": "ipython",
    "version": 3
   },
   "file_extension": ".py",
   "mimetype": "text/x-python",
   "name": "python",
   "nbconvert_exporter": "python",
   "pygments_lexer": "ipython3",
   "version": "3.8.8"
  }
 },
 "nbformat": 4,
 "nbformat_minor": 5
}
