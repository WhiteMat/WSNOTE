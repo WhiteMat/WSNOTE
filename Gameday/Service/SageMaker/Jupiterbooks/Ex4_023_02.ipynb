{
 "cells": [
  {
   "cell_type": "code",
   "execution_count": null,
   "id": "d5d18faa",
   "metadata": {},
   "outputs": [],
   "source": [
    "# Exemple  classification binaire avec Keras\n",
    "import numpy as np\n",
    "from keras.models import Sequential\n",
    "from keras.layers import Dense\n",
    "from numpy import array\n",
    "\n",
    "X=array([(-4,0.5),(-4,3),(0,1),(0,-4),(-1.5,-2.5),(1,-1),(3,-1.5),(-1,3),(0.5,3.5),(1.5,1.5),(2.5,3.5),(4,1),(4.5,-0.5)])\n",
    "y=array([1,1,1,1,1,1,1,0,0,0,0,0,0])\n",
    "\n",
    "# Définition du modèle et entraînement \n",
    "model = Sequential()\n",
    "model.add(Dense(4, input_shape=(2,), activation='sigmoid'))\n",
    "model.add(Dense(1, activation='sigmoid'))\n",
    "model.compile(loss='binary_crossentropy', optimizer='adam')\n",
    "model.fit(X, y, epochs=1000, verbose=0)\n",
    "# nouvelle entrée à prédire\n",
    "Xnew = array([[3,-1.5],[3,-0.25]])\n",
    "# Prédiction\n",
    "ynew = model.predict(Xnew)\n",
    "# Arrondir le résultat pour obtenir une prédiction de classe binaire\n",
    "ynew = np.round(ynew)\n",
    "# Affichage de l'entrée et de la classe correspondante\n",
    "print(\"X=%s, Predicted=%s\" % (Xnew[0], ynew[0]))"
   ]
  }
 ],
 "metadata": {
  "kernelspec": {
   "display_name": "Python 3",
   "language": "python",
   "name": "python3"
  },
  "language_info": {
   "codemirror_mode": {
    "name": "ipython",
    "version": 3
   },
   "file_extension": ".py",
   "mimetype": "text/x-python",
   "name": "python",
   "nbconvert_exporter": "python",
   "pygments_lexer": "ipython3",
   "version": "3.8.8"
  }
 },
 "nbformat": 4,
 "nbformat_minor": 5
}
