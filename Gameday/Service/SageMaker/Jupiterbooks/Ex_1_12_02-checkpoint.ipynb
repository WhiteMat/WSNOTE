{
 "cells": [
  {
   "cell_type": "code",
   "execution_count": null,
   "id": "cf406ae6",
   "metadata": {},
   "outputs": [],
   "source": [
    "# Exemple classification binaire avec Keras\n",
    "import numpy as np\n",
    "from keras.models import Sequential\n",
    "from keras.layers import Dense\n",
    "from numpy import array\n",
    "\n",
    "X=array([(1, 1), (2, 0.5), (2, 2), (3, 1.5), (3, 2.75), (4, 1), (4, 2.5), (4.5, 3), (5, 1), (5, 2.25),(0, 3), (1, 1.5), (1, 4), (1.5, 2.5), (2, 2.5), (3, 3.5), (3.5, 3.25), (4, 3), (4, 4), (5, 4)])\n",
    "y=array([1,1,1,1,1,1,1,1,1,1,0,0,0,0,0,0,0,0,0,0])\n",
    "\n",
    "# Définition du modèle et entraînement \n",
    "model = Sequential()\n",
    "model.add(Dense(4, input_shape=(2,), activation='sigmoid'))\n",
    "model.add(Dense(1, activation='sigmoid'))\n",
    "model.compile(loss='binary_crossentropy', optimizer='adam')\n",
    "model.fit(X, y, epochs=1000, verbose=0)\n",
    "\n",
    "# nouvelle instance à prédire\n",
    "Xnew = array([[0.95,1.45]])\n",
    "# Prédiction\n",
    "ynew = model.predict_classes(Xnew)\n",
    "# Affichage de l'instance à prédire et de la classe correspondante\n",
    "print(\"X=%s, Predicted=%s\" % (Xnew[0], ynew[0]))"
   ]
  }
 ],
 "metadata": {
  "kernelspec": {
   "display_name": "Python 3",
   "language": "python",
   "name": "python3"
  },
  "language_info": {
   "codemirror_mode": {
    "name": "ipython",
    "version": 3
   },
   "file_extension": ".py",
   "mimetype": "text/x-python",
   "name": "python",
   "nbconvert_exporter": "python",
   "pygments_lexer": "ipython3",
   "version": "3.8.8"
  }
 },
 "nbformat": 4,
 "nbformat_minor": 5
}
