{
 "cells": [
  {
   "cell_type": "code",
   "execution_count": 4,
   "id": "19a75afc",
   "metadata": {},
   "outputs": [
    {
     "name": "stdout",
     "output_type": "stream",
     "text": [
      "Dimension des poids:  (1, 5)\n",
      "Poids:  [[ 0.018  0.004  0.001 -0.019 -0.003]]\n",
      "Dimension des biais:  (1, 1)\n",
      "Biais:  [[0.]]\n",
      "Dimension des entrées:  (5, 1)\n",
      "Somme pondérée:  [[0.07]]\n",
      "Output:  [[0.518]]\n"
     ]
    }
   ],
   "source": [
    "\n",
    "import numpy as np\n",
    "np.set_printoptions(precision=3)\n",
    "\n",
    "np.random.seed(3)\n",
    "\n",
    "weights = np.random.randn(1,5)*0.01\n",
    "\n",
    "biais = np.zeros(shape=(1,1))\n",
    "print(\"Dimension des poids: \", weights.shape)\n",
    "print(\"Poids: \",weights)\n",
    "print(\"Dimension des biais: \", biais.shape)\n",
    "print(\"Biais: \", biais)\n",
    "\n",
    "\n",
    "input_values = np.array([7,1,3,2,9]).reshape(-1, 1)\n",
    "print(\"Dimension des entrées: \", input_values.shape)#valeurs d'entrées e1, e2, e3\n",
    "\n",
    "f11 = np.dot(weights, input_values) + bias\n",
    "#f12=weights@input_values + bias\n",
    "print(\"Somme pondérée: \", f11)\n",
    "#print(\"f12: \", f12)\n",
    "\n",
    "def sigmoid(x):\n",
    "    return 1/(1+np.exp(-x))\n",
    "\n",
    "y_calcul = sigmoid(f11)\n",
    "print(\"Output: \", y_calcul)"
   ]
  },
  {
   "cell_type": "code",
   "execution_count": null,
   "id": "2562cb93",
   "metadata": {},
   "outputs": [],
   "source": []
  },
  {
   "cell_type": "code",
   "execution_count": null,
   "id": "53b636b4",
   "metadata": {},
   "outputs": [],
   "source": []
  }
 ],
 "metadata": {
  "kernelspec": {
   "display_name": "Python 3",
   "language": "python",
   "name": "python3"
  },
  "language_info": {
   "codemirror_mode": {
    "name": "ipython",
    "version": 3
   },
   "file_extension": ".py",
   "mimetype": "text/x-python",
   "name": "python",
   "nbconvert_exporter": "python",
   "pygments_lexer": "ipython3",
   "version": "3.8.8"
  }
 },
 "nbformat": 4,
 "nbformat_minor": 5
}
