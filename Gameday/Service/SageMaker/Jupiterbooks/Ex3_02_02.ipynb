{
 "cells": [
  {
   "cell_type": "code",
   "execution_count": null,
   "id": "2c960550",
   "metadata": {},
   "outputs": [],
   "source": [
    "import numpy as np\n",
    "import matplotlib.pyplot as plt\n",
    "from sklearn.datasets import make_regression\n",
    "from sklearn.linear_model import SGDRegressor\n",
    "np.random.seed(0)\n",
    "x, y = make_regression(n_samples=100, n_features=1, noise=30 )                   \n",
    "#y=y+20         \n",
    "plt.scatter(x, y)\n",
    "model = SGDRegressor(max_iter=1000, eta0=0.01)\n",
    "model.fit(x,y)\n",
    "print('Coeff R2 =', model.score(x, y))\n",
    "plt.scatter(x, y)\n",
    "#plt.plot(x, model.predict(x), c='red', lw = 3)"
   ]
  }
 ],
 "metadata": {
  "kernelspec": {
   "display_name": "Python 3",
   "language": "python",
   "name": "python3"
  },
  "language_info": {
   "codemirror_mode": {
    "name": "ipython",
    "version": 3
   },
   "file_extension": ".py",
   "mimetype": "text/x-python",
   "name": "python",
   "nbconvert_exporter": "python",
   "pygments_lexer": "ipython3",
   "version": "3.8.8"
  }
 },
 "nbformat": 4,
 "nbformat_minor": 5
}
